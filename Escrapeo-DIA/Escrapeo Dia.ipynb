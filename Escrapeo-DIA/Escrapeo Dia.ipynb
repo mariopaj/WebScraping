{
 "cells": [
  {
   "cell_type": "markdown",
   "id": "597b27f6-f37d-43b2-8a89-50601fc3c964",
   "metadata": {},
   "source": [
    "# Escrapeo DIA\n",
    "\n",
    "Lo haremos solo con bs4, debido a que la navegabilidad por la página con selenium es complicada\n",
    "\n",
    "https://www.dia.es/compra-online/#"
   ]
  },
  {
   "cell_type": "code",
   "execution_count": 2,
   "id": "060bf4ca-4665-4e21-8236-7c9c80b073b2",
   "metadata": {},
   "outputs": [],
   "source": [
    "# Importamos librerías necesarias para escrapear\n",
    "\n",
    "import requests as req\n",
    "\n",
    "from bs4 import BeautifulSoup as bs\n",
    "\n",
    "import pandas as pd"
   ]
  },
  {
   "cell_type": "code",
   "execution_count": 4,
   "id": "fd8556d6-4e0e-447d-ae10-b77ba0f126a9",
   "metadata": {},
   "outputs": [],
   "source": [
    "# Importamos el excel creado de categorias y subcategorías\n",
    "df_dia = pd.read_excel(r'C:\\Users\\mario\\OneDrive\\Escritorio\\Proyecto Página Web\\Escrapeo-DIA\\DIA_cat.xlsx')\n",
    "\n",
    "# Eliminamos las filas que no nos sirven\n",
    "df_dia = df_dia.drop(df_dia.index[[0, 1]])\n",
    "\n",
    "# Reseteamos el indice\n",
    "df_dia.reset_index(inplace=True, drop=True)\n",
    "\n",
    "# Renombramos columnas\n",
    "df_dia.columns = ['cat', 'scat', 'npg']"
   ]
  },
  {
   "cell_type": "code",
   "execution_count": 5,
   "id": "8d8d3dc2-04da-4665-accc-fb8646d77214",
   "metadata": {},
   "outputs": [],
   "source": [
    "# Creamos las URls\n",
    "url_cat = ['https://www.dia.es/compra-online/{}/'.format(cat) for cat in df_dia.cat.tolist()]\n",
    "\n",
    "url_scat = []\n",
    "for i, scat in enumerate(df_dia.scat.tolist()):\n",
    "    url_scat.append(url_cat[i] + '{}/cf'.format(scat))"
   ]
  },
  {
   "cell_type": "code",
   "execution_count": 6,
   "id": "76ccbc90-febb-4367-8c01-84c34534903a",
   "metadata": {},
   "outputs": [
    {
     "data": {
      "text/plain": [
       "['https://www.dia.es/compra-online/dulces-de-navidad/turrones/cf',\n",
       " 'https://www.dia.es/compra-online/dulces-de-navidad/surtidos-navidenos/cf',\n",
       " 'https://www.dia.es/compra-online/dulces-de-navidad/panettones/cf',\n",
       " 'https://www.dia.es/compra-online/dulces-de-navidad/roscones-de-reyes/cf',\n",
       " 'https://www.dia.es/compra-online/platos-preparados/pizzas-refrigeradas/cf']"
      ]
     },
     "execution_count": 6,
     "metadata": {},
     "output_type": "execute_result"
    }
   ],
   "source": [
    "url_scat[:5]"
   ]
  },
  {
   "cell_type": "code",
   "execution_count": 7,
   "id": "60918ec7-f90f-450e-8663-25d3d1a7884c",
   "metadata": {},
   "outputs": [],
   "source": [
    "# Filtramos el DataFrame con las subcategorias que tienen más de una página\n",
    "df_dia_filt = df_dia[df_dia.npg > 1]\n",
    "\n",
    "index = df_dia_filt.index.to_list()\n",
    "\n",
    "# Cogemos las URLs de las subcategorias que tienen más de una página\n",
    "url_scat_filt = [url_scat[i] for i in index]\n",
    "\n",
    "# Sacamos una lista del numero de páginas de cada subcategoría\n",
    "npg = df_dia_filt.npg.tolist()"
   ]
  },
  {
   "cell_type": "code",
   "execution_count": 8,
   "id": "5ad39943-7a44-4d40-b237-b8e5e4288afd",
   "metadata": {},
   "outputs": [
    {
     "name": "stdout",
     "output_type": "stream",
     "text": [
      "51 , 51\n"
     ]
    }
   ],
   "source": [
    "print(len(url_scat_filt), ',', len(npg))"
   ]
  },
  {
   "cell_type": "code",
   "execution_count": 9,
   "id": "d2200f2c-d078-4ffe-a0a0-c9da8085614a",
   "metadata": {},
   "outputs": [],
   "source": [
    "# Sacamos las URLs de las subcategorias que tienen varias páginas\n",
    "new_url = []\n",
    "\n",
    "for url, n in zip(url_scat_filt, npg):\n",
    "    for i in range(1, n):\n",
    "        new_url.append(url + '/cf?page={}&disp='.format(i))"
   ]
  },
  {
   "cell_type": "code",
   "execution_count": 10,
   "id": "c825cd12-d59d-4c0e-89c2-7ac94d14601e",
   "metadata": {},
   "outputs": [
    {
     "data": {
      "text/plain": [
       "['https://www.dia.es/compra-online/frescos/carne/cf/cf?page=1&disp=',\n",
       " 'https://www.dia.es/compra-online/frescos/carne/cf/cf?page=2&disp=',\n",
       " 'https://www.dia.es/compra-online/frescos/carne/cf/cf?page=3&disp=',\n",
       " 'https://www.dia.es/compra-online/frescos/charcuteria-y-quesos/cf/cf?page=1&disp=',\n",
       " 'https://www.dia.es/compra-online/frescos/charcuteria-y-quesos/cf/cf?page=2&disp=']"
      ]
     },
     "execution_count": 10,
     "metadata": {},
     "output_type": "execute_result"
    }
   ],
   "source": [
    "new_url[:5]"
   ]
  },
  {
   "cell_type": "code",
   "execution_count": 11,
   "id": "d249e789-0142-4c00-9b2c-09b5f2f77661",
   "metadata": {},
   "outputs": [],
   "source": [
    "# Unimos en una única lista todas las URLs\n",
    "urls = url_scat + new_url"
   ]
  },
  {
   "cell_type": "code",
   "execution_count": 12,
   "id": "d7f05988-8afe-4e43-88a4-1e22d7e4fb89",
   "metadata": {},
   "outputs": [
    {
     "data": {
      "text/plain": [
       "291"
      ]
     },
     "execution_count": 12,
     "metadata": {},
     "output_type": "execute_result"
    }
   ],
   "source": [
    "len(urls)"
   ]
  },
  {
   "cell_type": "code",
   "execution_count": 13,
   "id": "2be2c67d-3909-4259-b4db-4c0a30203528",
   "metadata": {},
   "outputs": [],
   "source": [
    "## A partir de aquí comienza la extracción del HTML de todas las páginas\n",
    "html = []\n",
    "\n",
    "for url in urls:\n",
    "    html.append(req.get(url).text)"
   ]
  },
  {
   "cell_type": "code",
   "execution_count": 14,
   "id": "f2ab582c-2b19-4221-af11-15e2c699fd52",
   "metadata": {},
   "outputs": [],
   "source": [
    "soup = [bs(html[i], 'html.parser') for i in range(len(html))]"
   ]
  },
  {
   "cell_type": "code",
   "execution_count": 15,
   "id": "93b3a148-c174-4b89-9d8f-51df9727fe19",
   "metadata": {},
   "outputs": [
    {
     "data": {
      "text/plain": [
       "291"
      ]
     },
     "execution_count": 15,
     "metadata": {},
     "output_type": "execute_result"
    }
   ],
   "source": [
    "len(soup)"
   ]
  },
  {
   "cell_type": "code",
   "execution_count": 101,
   "id": "9cdc6c99-31ff-4281-a614-7c0585a8b0ab",
   "metadata": {},
   "outputs": [],
   "source": [
    "# Sacamos las celdas de los productos\n",
    "products_grid_list = []\n",
    "\n",
    "for i in range(len(soup)):\n",
    "    products_grid_list.append(soup[i].find_all(class_ = 'product-list__item'))\n",
    "    \n",
    "# Desglosamos las listas\n",
    "products_grid = []\n",
    "\n",
    "for item in products_grid_list:\n",
    "    products_grid += item"
   ]
  },
  {
   "cell_type": "code",
   "execution_count": 102,
   "id": "e9eed093-b14e-424c-ab5d-d74183b01bdb",
   "metadata": {},
   "outputs": [
    {
     "data": {
      "text/plain": [
       "5886"
      ]
     },
     "execution_count": 102,
     "metadata": {},
     "output_type": "execute_result"
    }
   ],
   "source": [
    "len(products_grid)"
   ]
  },
  {
   "cell_type": "code",
   "execution_count": 106,
   "id": "1d28ffbf-8044-42b8-9cc7-c513478ef020",
   "metadata": {
    "tags": []
   },
   "outputs": [],
   "source": [
    "# Sacamos los links de las imágenes de los productos\n",
    "product_img = []\n",
    "for i in range(len(products_grid)):\n",
    "    try:\n",
    "        product_img.append(products_grid[i].find(class_ = 'crispImage').attrs['src'])\n",
    "    except:\n",
    "        product_img.append('')"
   ]
  },
  {
   "cell_type": "code",
   "execution_count": 107,
   "id": "22e59b55-63f3-416a-8e4c-4c920e595a5d",
   "metadata": {},
   "outputs": [
    {
     "data": {
      "text/plain": [
       "['https://s0.dia.es/medias/productimages/h2d/hc6/10837627568158.jpg',\n",
       " 'https://s3.dia.es/medias/productimages/h96/h78/10837610528798.jpg',\n",
       " 'https://s0.dia.es/medias/productimages/h15/hea/10874375405598.jpg',\n",
       " 'https://s2.dia.es/medias/productimages/ha3/ha7/10839002054686.jpg',\n",
       " 'https://s2.dia.es/medias/productimages/hd6/hd0/10871302291486.jpg',\n",
       " 'https://s0.dia.es/medias/h9c/h3e/10351178383390.jpg',\n",
       " 'https://s0.dia.es/medias/productimages/h35/h7a/10871280009246.jpg',\n",
       " 'https://s1.dia.es/medias/h34/h44/10389740486686.jpg',\n",
       " 'https://s1.dia.es/medias/h38/h7a/10389747793950.jpg',\n",
       " 'https://s0.dia.es/medias/productimages/he5/he4/10870041772062.jpg']"
      ]
     },
     "execution_count": 107,
     "metadata": {},
     "output_type": "execute_result"
    }
   ],
   "source": [
    "product_img[:10]"
   ]
  },
  {
   "cell_type": "code",
   "execution_count": 108,
   "id": "d61f70eb-2bd5-4795-8df2-2688fa19dbb2",
   "metadata": {},
   "outputs": [],
   "source": [
    "# Sacamos los nombres de los productos\n",
    "product_name = []\n",
    "for i in range(len(products_grid)):\n",
    "    try:\n",
    "        product_name.append(products_grid[i].find(class_ = 'details').text.strip().lower())\n",
    "    except:\n",
    "        product_name.append('')"
   ]
  },
  {
   "cell_type": "code",
   "execution_count": 109,
   "id": "a240c730-900c-4f32-b8a9-789b00c1a261",
   "metadata": {},
   "outputs": [
    {
     "data": {
      "text/plain": [
       "['dia dulce noel turrón imperial de cacahuete estuche 150 gr',\n",
       " 'dia dulce noel turrón de crema de cacahuete estuche 150 gr',\n",
       " 'nestle lote chocolate extrafino y peluche caja 260 gr (modelo aleatorio)',\n",
       " 'kinder bueno mini happy moments caja 191 gr',\n",
       " 'la hornada dia pandoro con chocolate bolsa 750 gr',\n",
       " 'la hornada dia pandoro clásico bolsa 750 gr',\n",
       " 'la hornada dia mini panettone de chocolate bolsa 100 gr',\n",
       " 'dia dulce noel roscón de reyes sin relleno caja 400 gr',\n",
       " 'dia dulce noel roscón de reyes relleno sabor trufa caja 550 gr',\n",
       " 'casa tarradellas pizza jamón y queso envase 405 gr']"
      ]
     },
     "execution_count": 109,
     "metadata": {},
     "output_type": "execute_result"
    }
   ],
   "source": [
    "product_name[:10]"
   ]
  },
  {
   "cell_type": "code",
   "execution_count": 110,
   "id": "a722116b-52bd-4ad0-9816-a8d14b16b6c0",
   "metadata": {},
   "outputs": [],
   "source": [
    "# Sacamos los precios de los productos\n",
    "product_price = []\n",
    "for i in range(len(products_grid)):\n",
    "    try:\n",
    "        product_price.append(products_grid[i].find(class_ = 'price').text.strip())\n",
    "    except:\n",
    "        product_price.append('')"
   ]
  },
  {
   "cell_type": "code",
   "execution_count": 111,
   "id": "fe942555-055e-4937-83e6-0eaeeb8cad46",
   "metadata": {},
   "outputs": [],
   "source": [
    "# Limpiamos los precios\n",
    "product_price = [product_price[i][:4] for i in range(len(product_price))]\n",
    "product_price = [float(product_price[i].replace(',', '.')) for i in range(len(product_price))]"
   ]
  },
  {
   "cell_type": "code",
   "execution_count": 112,
   "id": "de4a0ffa-b2ac-4e08-ac5a-9379451b0592",
   "metadata": {},
   "outputs": [
    {
     "data": {
      "text/plain": [
       "[0.99, 0.99, 7.49, 5.49, 3.99, 3.99, 0.99, 3.49, 3.99, 2.63]"
      ]
     },
     "execution_count": 112,
     "metadata": {},
     "output_type": "execute_result"
    }
   ],
   "source": [
    "product_price[:10]"
   ]
  },
  {
   "cell_type": "code",
   "execution_count": 115,
   "id": "5520b896-b4a8-4d40-bc73-b58e41fcbead",
   "metadata": {},
   "outputs": [],
   "source": [
    "# Vemos el número de productos que hay en cada página\n",
    "n_products = []\n",
    "for i in range(len(soup)):\n",
    "    n_products.append(len(soup[i].find_all(class_ = 'product-list__item')))"
   ]
  },
  {
   "cell_type": "code",
   "execution_count": 116,
   "id": "75caa97d-e796-47b5-a065-6cb8f0b5ca4a",
   "metadata": {},
   "outputs": [],
   "source": [
    "# Sacamos la lista completa de los nombres de las subcategorías\n",
    "scat_list = []\n",
    "\n",
    "for scat, n in zip(products_scat, n_products):\n",
    "    scat_list.append([scat]*n)\n",
    "\n",
    "# Desglosamos las listas\n",
    "scat_names = []\n",
    "\n",
    "for item in scat_list:\n",
    "    scat_names += item"
   ]
  },
  {
   "cell_type": "code",
   "execution_count": 117,
   "id": "75456638-784f-42c4-99ec-6836c2f23ff9",
   "metadata": {},
   "outputs": [
    {
     "name": "stdout",
     "output_type": "stream",
     "text": [
      "5886 5886 5886 5886\n"
     ]
    }
   ],
   "source": [
    "# Vemos si el tamaño de todas las listas coincide\n",
    "print(len(product_name), len(product_price), len(product_img), len(scat_names)) # Coinciden"
   ]
  },
  {
   "cell_type": "code",
   "execution_count": 120,
   "id": "9de3a144-973a-4b91-bb9e-afd148b2654c",
   "metadata": {},
   "outputs": [],
   "source": [
    "# Cremos el DataFrame de los productos\n",
    "df_dia_products = pd.DataFrame({'product' : product_name,\n",
    "                            'price' : product_price,\n",
    "                            'scat' : scat_names,\n",
    "                            'img' : product_img})"
   ]
  },
  {
   "cell_type": "code",
   "execution_count": 121,
   "id": "b082335e-7082-473d-98bf-f68db566f98b",
   "metadata": {},
   "outputs": [
    {
     "data": {
      "text/html": [
       "<div>\n",
       "<style scoped>\n",
       "    .dataframe tbody tr th:only-of-type {\n",
       "        vertical-align: middle;\n",
       "    }\n",
       "\n",
       "    .dataframe tbody tr th {\n",
       "        vertical-align: top;\n",
       "    }\n",
       "\n",
       "    .dataframe thead th {\n",
       "        text-align: right;\n",
       "    }\n",
       "</style>\n",
       "<table border=\"1\" class=\"dataframe\">\n",
       "  <thead>\n",
       "    <tr style=\"text-align: right;\">\n",
       "      <th></th>\n",
       "      <th>product</th>\n",
       "      <th>price</th>\n",
       "      <th>scat</th>\n",
       "      <th>img</th>\n",
       "    </tr>\n",
       "  </thead>\n",
       "  <tbody>\n",
       "    <tr>\n",
       "      <th>0</th>\n",
       "      <td>dia dulce noel turrón imperial de cacahuete es...</td>\n",
       "      <td>0.99</td>\n",
       "      <td>turrones</td>\n",
       "      <td>https://s0.dia.es/medias/productimages/h2d/hc6...</td>\n",
       "    </tr>\n",
       "    <tr>\n",
       "      <th>1</th>\n",
       "      <td>dia dulce noel turrón de crema de cacahuete es...</td>\n",
       "      <td>0.99</td>\n",
       "      <td>turrones</td>\n",
       "      <td>https://s3.dia.es/medias/productimages/h96/h78...</td>\n",
       "    </tr>\n",
       "    <tr>\n",
       "      <th>2</th>\n",
       "      <td>nestle lote chocolate extrafino y peluche caja...</td>\n",
       "      <td>7.49</td>\n",
       "      <td>surtidos navideños</td>\n",
       "      <td>https://s0.dia.es/medias/productimages/h15/hea...</td>\n",
       "    </tr>\n",
       "    <tr>\n",
       "      <th>3</th>\n",
       "      <td>kinder bueno mini happy moments caja 191 gr</td>\n",
       "      <td>5.49</td>\n",
       "      <td>surtidos navideños</td>\n",
       "      <td>https://s2.dia.es/medias/productimages/ha3/ha7...</td>\n",
       "    </tr>\n",
       "    <tr>\n",
       "      <th>4</th>\n",
       "      <td>la hornada dia pandoro con chocolate bolsa 750 gr</td>\n",
       "      <td>3.99</td>\n",
       "      <td>panettones</td>\n",
       "      <td>https://s2.dia.es/medias/productimages/hd6/hd0...</td>\n",
       "    </tr>\n",
       "  </tbody>\n",
       "</table>\n",
       "</div>"
      ],
      "text/plain": [
       "                                             product  price  \\\n",
       "0  dia dulce noel turrón imperial de cacahuete es...   0.99   \n",
       "1  dia dulce noel turrón de crema de cacahuete es...   0.99   \n",
       "2  nestle lote chocolate extrafino y peluche caja...   7.49   \n",
       "3        kinder bueno mini happy moments caja 191 gr   5.49   \n",
       "4  la hornada dia pandoro con chocolate bolsa 750 gr   3.99   \n",
       "\n",
       "                 scat                                                img  \n",
       "0            turrones  https://s0.dia.es/medias/productimages/h2d/hc6...  \n",
       "1            turrones  https://s3.dia.es/medias/productimages/h96/h78...  \n",
       "2  surtidos navideños  https://s0.dia.es/medias/productimages/h15/hea...  \n",
       "3  surtidos navideños  https://s2.dia.es/medias/productimages/ha3/ha7...  \n",
       "4          panettones  https://s2.dia.es/medias/productimages/hd6/hd0...  "
      ]
     },
     "execution_count": 121,
     "metadata": {},
     "output_type": "execute_result"
    }
   ],
   "source": [
    "df_dia_products.head()"
   ]
  },
  {
   "cell_type": "code",
   "execution_count": 123,
   "id": "870e7c39-26e6-4040-a9b3-c3dd19586dec",
   "metadata": {},
   "outputs": [],
   "source": [
    "df_dia_products.to_excel(r'C:\\Users\\mario\\OneDrive\\Escritorio\\Proyecto Página Web\\Escrapeo-DIA\\productos_dia.xlsx', index = False)"
   ]
  },
  {
   "cell_type": "code",
   "execution_count": null,
   "id": "29d410ca-d0e3-4b69-a9ab-42cf2bc99e4c",
   "metadata": {},
   "outputs": [],
   "source": []
  }
 ],
 "metadata": {
  "kernelspec": {
   "display_name": "Python 3 (ipykernel)",
   "language": "python",
   "name": "python3"
  },
  "language_info": {
   "codemirror_mode": {
    "name": "ipython",
    "version": 3
   },
   "file_extension": ".py",
   "mimetype": "text/x-python",
   "name": "python",
   "nbconvert_exporter": "python",
   "pygments_lexer": "ipython3",
   "version": "3.9.7"
  }
 },
 "nbformat": 4,
 "nbformat_minor": 5
}
