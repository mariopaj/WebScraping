{
 "cells": [
  {
   "cell_type": "markdown",
   "id": "b8a3bd27-d6c6-479c-98e3-f5a630736ced",
   "metadata": {},
   "source": [
    "# Glosario Total Renting"
   ]
  },
  {
   "cell_type": "code",
   "execution_count": 1,
   "id": "88958d9a-2e08-4edd-a0ef-668d569b6072",
   "metadata": {},
   "outputs": [],
   "source": [
    "# Cargamos librerias\n",
    "\n",
    "import pandas as pd\n",
    "import people_also_ask\n",
    "from youtubesearchpython import VideosSearch\n",
    "import re"
   ]
  },
  {
   "cell_type": "code",
   "execution_count": 6,
   "id": "758647ae-0a6e-43d5-8f31-8f2cb2d87e14",
   "metadata": {},
   "outputs": [
    {
     "data": {
      "text/plain": [
       "['Abarth 500',\n",
       " 'Alfa Romeo Giulia',\n",
       " 'Alfa Romeo Stelvio',\n",
       " 'Audi A1',\n",
       " 'Audi A3',\n",
       " 'Audi A4',\n",
       " 'Audi A5',\n",
       " 'Audi A6',\n",
       " 'Audi A7',\n",
       " 'Audi A8']"
      ]
     },
     "execution_count": 6,
     "metadata": {},
     "output_type": "execute_result"
    }
   ],
   "source": [
    "# Improtamos en un DF los coches para la búsqueda\n",
    "\n",
    "coches = pd.read_csv(r'C:\\Users\\mario\\OneDrive\\Escritorio\\Trabajo\\Glosario_FQ\\Data\\coches.csv')\n",
    "  \n",
    "coches = list(coches.Keyword.apply(lambda x: x.strip())) # Lo pasamos a una lista y eliminamos espacios\n",
    "\n",
    "coches[:10]"
   ]
  },
  {
   "cell_type": "code",
   "execution_count": 9,
   "id": "e61bc419-e033-4c14-8134-81f6fe347e43",
   "metadata": {},
   "outputs": [],
   "source": [
    "# Función que devuelve pregunta-respuesta en formato HTML\n",
    "\n",
    "def obtener_preguntas_frecuentes_html(key_word, n_preguntas=5, search='Buscar'):\n",
    "    \n",
    "    '''\n",
    "    Esta función sirve para sacar las preguntas frecuentes y su respectiva respuesta\n",
    "    para cualquier key word\n",
    "    \n",
    "    Parameters\n",
    "    ----------\n",
    "    key_word: string\n",
    "        key word de la que queremos encontrar las preguntas y respuestas frecuentes \n",
    "    \n",
    "    n_preguntas: int\n",
    "        número de preguntas máximas que queremos sacar de la key word, por defecto 5\n",
    "    \n",
    "    search: string\n",
    "        palabra 'Buscar' en el idioma que vamos a buscar las palabras frecuentes, por defecto en español\n",
    "    \n",
    "    Returns\n",
    "    -------\n",
    "    string\n",
    "        devuelve un string con las preguntas y las respuestas en formato HTML\n",
    "    '''\n",
    "    try:\n",
    "        questions = people_also_ask.get_related_questions(key_word, n_preguntas)\n",
    "        questions = [question[0:question.find(search)] for question in questions] # Sacamos las preguntas frecuentes limpias\n",
    "\n",
    "        answers = []\n",
    "        contenido = []\n",
    "        for question in questions:\n",
    "            try:\n",
    "                if len(people_also_ask.get_answer(question)['response']) > 3 and people_also_ask.get_answer(question)['snippet_type'] == 'Definition Featured Snippet':    # Comprobamos si el tamaño de la respuesta es mayor a 3 y si la respuesta es una definición\n",
    "                    answers.append(re.sub(r'[0-9]{1,2} [a-z]{3,4} [0-9]{4}', '', people_also_ask.get_answer(question)['response']))                                        # Eliminamos la fecha final de la respuesta                                                                                      # Cogemos la respuesta tal cual sale\n",
    "                    contenido.append('<h3>' + question + '</h3>' + '<p>' + re.sub(r'[0-9]{1,2} [a-z]{3,4} [0-9]{4}', '', people_also_ask.get_answer(question)['response']) + '</p>')\n",
    "\n",
    "                # Esta parte es por si la respuesta a la pregunta es una tabla\n",
    "                elif len(people_also_ask.get_answer(question)['response']) > 3 and people_also_ask.get_answer(question)['snippet_type'] == 'Table Featured Snippet':       # Comprobamos si el tamaño de la respuesta es mayor a 3 y si la respuesta es una tabla\n",
    "                    columns = ' '.join(people_also_ask.get_answer(question)['snippet_data']['columns'])                                                                    # Cogemos la respuesta de la columna\n",
    "                    values = ' '.join([' '.join([str(item) for item in sublist]) + '<br>' for sublist in people_also_ask.get_answer(question)['snippet_data']['values']])  # Sacamos los values en una única lista\n",
    "                    result = columns + '<br>' + values\n",
    "                    answers.append(result)  \n",
    "                    contenido.append('<h3>' + question + '</h3>' + '<p>' + result + '</p>')\n",
    "\n",
    "                # Esta parte es por si la respuesta a la pregunta no es ni una tabla ni definition\n",
    "                else:\n",
    "                    answers.append('')\n",
    "            except:\n",
    "                answers.append('') # Si no encontramos respuesta añadimos un elemento vacío\n",
    "\n",
    "        contenido = [''.join(contenido)][0]\n",
    "\n",
    "        return contenido\n",
    "    \n",
    "    except:\n",
    "        return print('There are no frequently asked questions')"
   ]
  },
  {
   "cell_type": "code",
   "execution_count": 19,
   "id": "7d0f3abc-443c-444a-b1fa-1be12489ba42",
   "metadata": {},
   "outputs": [],
   "source": [
    "# Función que devuelve pregunta-respuesta en formato DataFrame\n",
    "\n",
    "def obtener_preguntas_frecuentes(key_word, n_preguntas=5, search='Buscar'):\n",
    "    \n",
    "    '''\n",
    "    Esta función sirve para sacar las preguntas frecuentes y su respectiva respuesta\n",
    "    para cualquier key word\n",
    "    \n",
    "    Parameters\n",
    "    ----------\n",
    "    key_word: string\n",
    "        key word de la que queremos encontrar las preguntas y respuestas frecuentes \n",
    "    \n",
    "    n_preguntas: int\n",
    "        número de preguntas máximas que queremos sacar de la key word, por defecto 5\n",
    "    \n",
    "    search: string\n",
    "        palabra 'Buscar' en el idioma que vamos a buscar las palabras frecuentes, por defecto en español\n",
    "    \n",
    "    Returns\n",
    "    -------\n",
    "    df\n",
    "        devuelve un df de preguntas y respuestas\n",
    "    '''\n",
    "    try:\n",
    "        questions = people_also_ask.get_related_questions(key_word, n_preguntas)\n",
    "        questions = [question[0:question.find(search)] for question in questions] # Sacamos las preguntas frecuentes limpias\n",
    "\n",
    "        answers = []\n",
    "        for question in questions:\n",
    "            try:\n",
    "                if len(people_also_ask.get_answer(question)['response']) > 3 and people_also_ask.get_answer(question)['snippet_type'] == 'Definition Featured Snippet':    # Comprobamos si el tamaño de la respuesta es mayor a 3 y si la respuesta es una definición\n",
    "                    answers.append(re.sub(r'[0-9]{1,2} [a-z]{3,4} [0-9]{4}', '', people_also_ask.get_answer(question)['response']))                                        # Eliminamos la fecha final de la respuesta                                                                                      # Cogemos la respuesta tal cual sale\n",
    "\n",
    "                # Esta parte es por si la respuesta a la pregunta es una tabla\n",
    "                elif len(people_also_ask.get_answer(question)['response']) > 3 and people_also_ask.get_answer(question)['snippet_type'] == 'Table Featured Snippet':       # Comprobamos si el tamaño de la respuesta es mayor a 3 y si la respuesta es una tabla\n",
    "                    columns = ' '.join(people_also_ask.get_answer(question)['snippet_data']['columns'])                                                                    # Cogemos la respuesta de la columna\n",
    "                    values = ' '.join([' '.join([str(item) for item in sublist]) for sublist in people_also_ask.get_answer(question)['snippet_data']['values']])  # Sacamos los values en una única lista\n",
    "                    result = columns + values\n",
    "                    answers.append(result)\n",
    "\n",
    "                # Esta parte es por si la respuesta a la pregunta no es ni una tabla ni definition\n",
    "                else:\n",
    "                    answers.append('')\n",
    "            except:\n",
    "                answers.append('') # Si no encontramos respuesta añadimos un elemento vacío\n",
    "\n",
    "            # Creamos una lista sólo de las preguntas que tienen respuesta de cada KeyWord\n",
    "            question_answer = []\n",
    "            for question, answer in zip(questions, answers):\n",
    "                if answer != '':\n",
    "                    question_answer.append([question, answer])\n",
    "                else:\n",
    "                    pass\n",
    "            \n",
    "            # Desglosamos la lista\n",
    "            flat_list = []\n",
    "            for q in question_answer:\n",
    "                for item in q:\n",
    "                    flat_list.append(item)\n",
    "            \n",
    "            flat_list.insert(len(flat_list), key_word)\n",
    "        \n",
    "        return flat_list\n",
    "    \n",
    "    except:\n",
    "        return print('There are no frequently asked questions')"
   ]
  },
  {
   "cell_type": "code",
   "execution_count": 22,
   "id": "b66701da-5ba8-4cc1-a49e-50ec32a13b08",
   "metadata": {},
   "outputs": [
    {
     "data": {
      "text/plain": [
       "['¿Cuánto corre el Alfa Romeo?',\n",
       " 'Modelo Años VelocidadRM 1923-1925 95 km/h 6C-1500 1927-1929 110 km/h 6C-1750 1929-1933 110-170 km/h 8C-2300 1931-1934 165-225 km/h',\n",
       " '¿Qué motor monta el Alfa Romeo Stelvio?',\n",
       " 'La gama de motores de gasolina del Alfa Romeo Stelvio también dispone de dos motores de cuatro cilindros y turbo, ambos con tracción total, el 2.0 Turbo con 200 CV y el 2.0 Turbo con 280 CV de potencia.',\n",
       " '¿Cuál es el Alfa Romeo más rápido?',\n",
       " 'Con un tiempo de 7 minutos, 51 segundos y 7 décimas, el Alfa Romeo Stelvio Quadrifoglio Verde no es solo el SUV más rápido del mundo, sino que ha conseguido batir a berlinas y deportivos de renombre. Sin duda, se ha convertido en el nuevo referente de los SUV compactos premium.',\n",
       " '¿Cuánto vale una camioneta Alfa Romeo?',\n",
       " 'Versión CV PrecioALFA ROMEO STELVIO 2.1 TD 140KW SPRINT AT8 Q4 190 58.800€ ALFA ROMEO STELVIO 2.0 T 148KW SPRINT AT8 Q4 200 59.300€ ALFA ROMEO STELVIO 2.2 D TURBO 154KW TI AUTO 4WD 210 62.800€ ALFA ROMEO STELVIO 2.0 TURBO 206KW TI AUTO 4WD 280 65.800€',\n",
       " 'Alfa Romeo Stelvio']"
      ]
     },
     "execution_count": 22,
     "metadata": {},
     "output_type": "execute_result"
    }
   ],
   "source": [
    "obtener_preguntas_frecuentes('Alfa Romeo Stelvio', 3, 'Buscar')"
   ]
  },
  {
   "cell_type": "code",
   "execution_count": 72,
   "id": "2e334473-adea-4841-966a-21326ef0f11d",
   "metadata": {
    "tags": []
   },
   "outputs": [
    {
     "data": {
      "text/plain": [
       "'<h3>¿Cuántos caballos tiene el Stelvio?</h3><p>La gama diésel del Alfa Stelvio se compone de tres motores de cuatro cilindros, con 160 CV, 190 CV y 210 CV de potencia. El de 160 CV de potencia únicamente está disponible con tracción trasera, siendo el más asequible de la gama.</p><h3>¿Qué motor lleva el Stelvio diesel?</h3><p>Bajo el capó delantero de este Alfa Romeo Stelvio tenemos un motor de casi 2,2 litros diésel sobrealimentado que rinde 210 CV y un par máximo de 470 Nm de par que proporciona un buen empuje y cuyo principal punto débil es que tiene un sonido indigno de un coche italiano con el biscione en la coraza delantera.</p><h3>¿Qué motor monta el Alfa Romeo Stelvio?</h3><p>La gama de motores de gasolina del Alfa Romeo Stelvio también dispone de dos motores de cuatro cilindros y turbo, ambos con tracción total, el 2.0 Turbo con 200 CV y el 2.0 Turbo con 280 CV de potencia.</p><h3>¿Quién fabrica los motores del Stelvio?</h3><p>Ferrari</p>'"
      ]
     },
     "execution_count": 72,
     "metadata": {},
     "output_type": "execute_result"
    }
   ],
   "source": [
    "obtener_preguntas_frecuentes_html('Alfa Romeo Stelvio', 5, 'Buscar')"
   ]
  },
  {
   "cell_type": "code",
   "execution_count": null,
   "id": "6be117de-a49a-4d1d-9419-42345c91c422",
   "metadata": {},
   "outputs": [],
   "source": [
    "pr = list(map(obtener_preguntas_frecuentes, coches[:2])) # Saca una lista de las listas de cada Key word"
   ]
  },
  {
   "cell_type": "code",
   "execution_count": 98,
   "id": "915e6807-3fa7-41d2-8015-add0bf728885",
   "metadata": {},
   "outputs": [
    {
     "data": {
      "text/html": [
       "<div>\n",
       "<style scoped>\n",
       "    .dataframe tbody tr th:only-of-type {\n",
       "        vertical-align: middle;\n",
       "    }\n",
       "\n",
       "    .dataframe tbody tr th {\n",
       "        vertical-align: top;\n",
       "    }\n",
       "\n",
       "    .dataframe thead th {\n",
       "        text-align: right;\n",
       "    }\n",
       "</style>\n",
       "<table border=\"1\" class=\"dataframe\">\n",
       "  <thead>\n",
       "    <tr style=\"text-align: right;\">\n",
       "      <th></th>\n",
       "      <th>question</th>\n",
       "      <th>answer</th>\n",
       "    </tr>\n",
       "  </thead>\n",
       "  <tbody>\n",
       "    <tr>\n",
       "      <th>0</th>\n",
       "      <td>¿Cuál es el Abarth con más caballos?</td>\n",
       "      <td>Alpha-N acaba de presentar el Abarth 500 EVOX ...</td>\n",
       "    </tr>\n",
       "    <tr>\n",
       "      <th>1</th>\n",
       "      <td>¿Cuántos caballos tiene el Abarth 500?</td>\n",
       "      <td>404 CV</td>\n",
       "    </tr>\n",
       "    <tr>\n",
       "      <th>2</th>\n",
       "      <td>¿Cuánto cuesta un Abarth 124 Spider?</td>\n",
       "      <td>Precios del Abarth 124 Spider en febrero 2022 ...</td>\n",
       "    </tr>\n",
       "    <tr>\n",
       "      <th>3</th>\n",
       "      <td>¿Cuántos caballos tiene el Abarth 595?</td>\n",
       "      <td>180 CV</td>\n",
       "    </tr>\n",
       "    <tr>\n",
       "      <th>4</th>\n",
       "      <td>¿Cuál es el Abarth más barato?</td>\n",
       "      <td>El Abarth más barato tiene un precio de 16.100...</td>\n",
       "    </tr>\n",
       "    <tr>\n",
       "      <th>5</th>\n",
       "      <td>¿Cuántos CV tiene un Abarth?</td>\n",
       "      <td>Acabados Potencia ConsumoAbarth 595 Cabrio 201...</td>\n",
       "    </tr>\n",
       "  </tbody>\n",
       "</table>\n",
       "</div>"
      ],
      "text/plain": [
       "                                 question  \\\n",
       "0    ¿Cuál es el Abarth con más caballos?   \n",
       "1  ¿Cuántos caballos tiene el Abarth 500?   \n",
       "2    ¿Cuánto cuesta un Abarth 124 Spider?   \n",
       "3  ¿Cuántos caballos tiene el Abarth 595?   \n",
       "4          ¿Cuál es el Abarth más barato?   \n",
       "5            ¿Cuántos CV tiene un Abarth?   \n",
       "\n",
       "                                              answer  \n",
       "0  Alpha-N acaba de presentar el Abarth 500 EVOX ...  \n",
       "1                                             404 CV  \n",
       "2  Precios del Abarth 124 Spider en febrero 2022 ...  \n",
       "3                                             180 CV  \n",
       "4  El Abarth más barato tiene un precio de 16.100...  \n",
       "5  Acabados Potencia ConsumoAbarth 595 Cabrio 201...  "
      ]
     },
     "execution_count": 98,
     "metadata": {},
     "output_type": "execute_result"
    }
   ],
   "source": [
    "pr[0]"
   ]
  },
  {
   "cell_type": "code",
   "execution_count": null,
   "id": "6f0ddc33-89b6-4295-85e0-82ab2add96c9",
   "metadata": {},
   "outputs": [],
   "source": []
  }
 ],
 "metadata": {
  "kernelspec": {
   "display_name": "Python 3 (ipykernel)",
   "language": "python",
   "name": "python3"
  },
  "language_info": {
   "codemirror_mode": {
    "name": "ipython",
    "version": 3
   },
   "file_extension": ".py",
   "mimetype": "text/x-python",
   "name": "python",
   "nbconvert_exporter": "python",
   "pygments_lexer": "ipython3",
   "version": "3.9.7"
  }
 },
 "nbformat": 4,
 "nbformat_minor": 5
}
