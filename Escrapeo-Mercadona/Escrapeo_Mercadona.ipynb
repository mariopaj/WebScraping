{
 "cells": [
  {
   "cell_type": "markdown",
   "id": "7dbb579a-ffd3-4cd1-bb05-779aa2b3d7e8",
   "metadata": {},
   "source": [
    "# Escrapeo precios mercadona:\n",
    "\n",
    "https://tienda.mercadona.es/"
   ]
  },
  {
   "cell_type": "code",
   "execution_count": 1,
   "id": "a67ab697-1f44-41b3-9348-815cf476110e",
   "metadata": {},
   "outputs": [],
   "source": [
    "# Importamos librerías necesarias para escrapear\n",
    "\n",
    "from selenium import webdriver \n",
    "\n",
    "import time  \n",
    "\n",
    "import requests as req\n",
    "\n",
    "from bs4 import BeautifulSoup as bs\n",
    "\n",
    "import pandas as pd\n",
    "\n",
    "from webdriver_manager.chrome import ChromeDriverManager"
   ]
  },
  {
   "cell_type": "code",
   "execution_count": 2,
   "id": "8b38e289-0cd8-4716-b053-3d319baf9b3b",
   "metadata": {},
   "outputs": [
    {
     "name": "stderr",
     "output_type": "stream",
     "text": [
      "\n",
      "\n",
      "====== WebDriver manager ======\n",
      "Current google-chrome version is 96.0.4664\n",
      "Get LATEST chromedriver version for 96.0.4664 google-chrome\n",
      "Driver [C:\\Users\\HP\\.wdm\\drivers\\chromedriver\\win32\\96.0.4664.45\\chromedriver.exe] found in cache\n"
     ]
    }
   ],
   "source": [
    "PATH=ChromeDriverManager().install()"
   ]
  },
  {
   "cell_type": "code",
   "execution_count": 17,
   "id": "8169f3dc-d6c0-4f50-a279-20d92ce92d03",
   "metadata": {},
   "outputs": [
    {
     "name": "stderr",
     "output_type": "stream",
     "text": [
      "C:\\Users\\HP\\AppData\\Local\\Temp/ipykernel_6096/3843881553.py:1: DeprecationWarning: executable_path has been deprecated, please pass in a Service object\n",
      "  driver=webdriver.Chrome(PATH)\n",
      "C:\\Users\\HP\\AppData\\Local\\Temp/ipykernel_6096/3843881553.py:6: DeprecationWarning: find_element_by_* commands are deprecated. Please use find_element() instead\n",
      "  driver.find_element_by_xpath('//*[@id=\"root\"]/div[1]/div/div/button[2]').click()\n",
      "C:\\Users\\HP\\AppData\\Local\\Temp/ipykernel_6096/3843881553.py:10: DeprecationWarning: find_element_by_* commands are deprecated. Please use find_element() instead\n",
      "  driver.find_element_by_xpath('//*[@id=\"root\"]/div[4]/div/div[2]/div/form/div/input').send_keys('28001')\n",
      "C:\\Users\\HP\\AppData\\Local\\Temp/ipykernel_6096/3843881553.py:13: DeprecationWarning: find_element_by_* commands are deprecated. Please use find_element() instead\n",
      "  driver.find_element_by_xpath('//*[@id=\"root\"]/div[4]/div/div[2]/div/form/button').click()\n",
      "C:\\Users\\HP\\AppData\\Local\\Temp/ipykernel_6096/3843881553.py:17: DeprecationWarning: find_element_by_* commands are deprecated. Please use find_element() instead\n",
      "  driver.find_element_by_xpath('//*[@id=\"root\"]/header/div[1]/nav/a[1]').click()\n",
      "C:\\Users\\HP\\AppData\\Local\\Temp/ipykernel_6096/3843881553.py:30: DeprecationWarning: find_element_by_* commands are deprecated. Please use find_element() instead\n",
      "  driver.find_element_by_xpath('//*[@id=\"root\"]/div[2]/div[2]/div[1]/div/div/button').click()\n",
      "C:\\Users\\HP\\AppData\\Local\\Temp/ipykernel_6096/3843881553.py:37: DeprecationWarning: find_element_by_* commands are deprecated. Please use find_element() instead\n",
      "  driver.find_element_by_xpath('//*[@id=\"root\"]/div[2]/div[1]/ul/li[{}]/div/button/span/label'.format(i)).click()\n"
     ]
    }
   ],
   "source": [
    "driver=webdriver.Chrome(PATH)\n",
    "\n",
    "driver.get('https://tienda.mercadona.es/')\n",
    "\n",
    "# Aceptamos las cookies\n",
    "driver.find_element_by_xpath('//*[@id=\"root\"]/div[1]/div/div/button[2]').click()\n",
    "time.sleep(2)\n",
    "\n",
    "# Introducimos el código postal\n",
    "driver.find_element_by_xpath('//*[@id=\"root\"]/div[4]/div/div[2]/div/form/div/input').send_keys('28001')\n",
    "\n",
    "# Continuamos\n",
    "driver.find_element_by_xpath('//*[@id=\"root\"]/div[4]/div/div[2]/div/form/button').click()\n",
    "time.sleep(2)\n",
    "\n",
    "# Vamos a categorías\n",
    "driver.find_element_by_xpath('//*[@id=\"root\"]/header/div[1]/nav/a[1]').click()\n",
    "time.sleep(2)\n",
    "\n",
    "## Aquí comienza el escrapeo\n",
    "html = [] # Hay 26 categorías y 155 (len(html) = 155)\n",
    "\n",
    "for i in range(2, 28):\n",
    "    while 1:\n",
    "        \n",
    "        # Vamos sacando el html de cada página\n",
    "        html.append(bs(driver.page_source, 'html.parser'))\n",
    "        try:\n",
    "            # Clicamos al botón de ver siguiente subcategoría\n",
    "            driver.find_element_by_xpath('//*[@id=\"root\"]/div[2]/div[2]/div[1]/div/div/button').click()\n",
    "            time.sleep(2)\n",
    "        except:\n",
    "            break\n",
    "\n",
    "    # Clicamos en la categoría siguiente\n",
    "    try:\n",
    "        driver.find_element_by_xpath('//*[@id=\"root\"]/div[2]/div[1]/ul/li[{}]/div/button/span/label'.format(i)).click()\n",
    "        time.sleep(2)\n",
    "    except:\n",
    "        break\n",
    "        \n",
    "driver.quit() # Apagamos el driver"
   ]
  },
  {
   "cell_type": "code",
   "execution_count": 18,
   "id": "639ed509-801b-4f8a-a7ed-f307253bc513",
   "metadata": {},
   "outputs": [
    {
     "data": {
      "text/plain": [
       "155"
      ]
     },
     "execution_count": 18,
     "metadata": {},
     "output_type": "execute_result"
    }
   ],
   "source": [
    "len(html)"
   ]
  },
  {
   "cell_type": "code",
   "execution_count": 107,
   "id": "43f49c82-0cce-4dbf-9355-2a17d131cef5",
   "metadata": {},
   "outputs": [],
   "source": [
    "# Sacamos el nombre de los productos de todas las subcategorías\n",
    "nombres = []\n",
    "\n",
    "for i in range(155):\n",
    "    nombres.append(html[i].find_all(class_='subhead1-r product-cell__description-name'))\n",
    "\n",
    "# Desglosamos la lista en una sola\n",
    "nombres_list = []\n",
    "\n",
    "for item in nombres:\n",
    "    nombres_list += item\n",
    "    \n",
    "# Sacamos el texto de la lista\n",
    "nombres = [nombre.text for nombre in nombres_list]"
   ]
  },
  {
   "cell_type": "code",
   "execution_count": 108,
   "id": "0a603042-7a54-4786-a147-e3409df222c5",
   "metadata": {},
   "outputs": [
    {
     "data": {
      "text/plain": [
       "6589"
      ]
     },
     "execution_count": 108,
     "metadata": {},
     "output_type": "execute_result"
    }
   ],
   "source": [
    "len(nombres)"
   ]
  },
  {
   "cell_type": "code",
   "execution_count": 63,
   "id": "96f61d42-c5c0-445c-b5fb-4cd1a2ceba38",
   "metadata": {},
   "outputs": [],
   "source": [
    "# Sacamos los precios de todas las subcategorías\n",
    "precios = []\n",
    "\n",
    "for i in range(155):\n",
    "    precios.append(html[i].find_all(class_='product-price__unit-price subhead1-b'))\n",
    "\n",
    "# Desglosamos la lista en una sola\n",
    "precios_list = []\n",
    "\n",
    "for item in precios:\n",
    "    precios_list += item\n",
    "    \n",
    "# Sacamos el texto de la lista\n",
    "precios = [precio.text for precio in precios_list]"
   ]
  },
  {
   "cell_type": "code",
   "execution_count": 64,
   "id": "3a29fd18-4b28-452f-8758-deb2a0d5c2f8",
   "metadata": {},
   "outputs": [
    {
     "data": {
      "text/plain": [
       "6589"
      ]
     },
     "execution_count": 64,
     "metadata": {},
     "output_type": "execute_result"
    }
   ],
   "source": [
    "len(precios)"
   ]
  },
  {
   "cell_type": "code",
   "execution_count": 81,
   "id": "1cb96523-e70a-410b-9d20-3ae36ba7c8fc",
   "metadata": {},
   "outputs": [],
   "source": [
    "# Sacamos la descripcion de todas las subcategorías\n",
    "descripcion = []\n",
    "\n",
    "# Sacamos la descripción de los productos por subcategorías\n",
    "for i in range(155):\n",
    "    descripcion.append(html[i].find_all('div', class_='product-format product-format__size--cell'))\n",
    "    \n",
    "# Desglosamos la lista en una sola\n",
    "descripcion_list = []\n",
    "\n",
    "for item in descripcion:\n",
    "    descripcion_list += item\n",
    "    \n",
    "# Sacamos el texto de la lista\n",
    "descripcion = [descripcion.text for descripcion in descripcion_list]"
   ]
  },
  {
   "cell_type": "code",
   "execution_count": 83,
   "id": "cccc4d9d-2228-4438-bd6d-e0315964a5fc",
   "metadata": {},
   "outputs": [
    {
     "data": {
      "text/plain": [
       "6589"
      ]
     },
     "execution_count": 83,
     "metadata": {},
     "output_type": "execute_result"
    }
   ],
   "source": [
    "len(descripcion)"
   ]
  },
  {
   "cell_type": "code",
   "execution_count": 104,
   "id": "bdf3a94c-23fb-409c-ac13-8d8e8954b3b1",
   "metadata": {},
   "outputs": [],
   "source": [
    "# Sacamos las URLs de las imágenes de todas las subcategorías\n",
    "imagenes = []\n",
    "\n",
    "# Sacamos la URL de los productos por subcategoría\n",
    "for i in range(155):\n",
    "    imagenes.append(html[i].find_all(class_='product-cell__image-wrapper'))\n",
    "\n",
    "# Desglosamos la lista en una sola\n",
    "imagenes_list = []\n",
    "\n",
    "for item in imagenes:\n",
    "    imagenes_list += item\n",
    "    \n",
    "# Sacamos la URl de la imagen de cada producto\n",
    "imagenes = [imagen.find('img').attrs['src'] for imagen in imagenes_list]"
   ]
  },
  {
   "cell_type": "code",
   "execution_count": 109,
   "id": "c6a1f4ed-1fcc-4e9b-b3ca-6c06c1567a9b",
   "metadata": {},
   "outputs": [
    {
     "data": {
      "text/plain": [
       "6589"
      ]
     },
     "execution_count": 109,
     "metadata": {},
     "output_type": "execute_result"
    }
   ],
   "source": [
    "len(imagenes)"
   ]
  },
  {
   "cell_type": "code",
   "execution_count": 200,
   "id": "4cc3499c-f712-406f-bb12-a4ac8fceab58",
   "metadata": {},
   "outputs": [],
   "source": [
    "# Creamos un diccionario con cada uno de los datos del producto\n",
    "\n",
    "productos = pd.DataFrame({'nombre': nombres,\n",
    "           'descripcion': descripcion,\n",
    "           'precio': precios,\n",
    "           'imagen': imagenes})"
   ]
  },
  {
   "cell_type": "code",
   "execution_count": 201,
   "id": "65a2c2e3-1ce8-480b-b9b5-6a3c5f06758b",
   "metadata": {},
   "outputs": [],
   "source": [
    "# Convertimos los precios en float y los strings los pasamos a minúsculas\n",
    "productos['precio'] = productos.precio.apply(lambda x: x.replace('€', '').strip())\n",
    "productos['precio'] = productos.precio.apply(lambda x: float(x.replace(',', '.')))\n",
    "productos['nombre'] = productos.nombre.apply(lambda x: x.lower())\n",
    "productos['descripcion'] = productos.descripcion.apply(lambda x: x.lower())"
   ]
  },
  {
   "cell_type": "code",
   "execution_count": 202,
   "id": "fea0e843-5f8f-451d-8c7f-fefb42e87333",
   "metadata": {},
   "outputs": [
    {
     "data": {
      "text/html": [
       "<div>\n",
       "<style scoped>\n",
       "    .dataframe tbody tr th:only-of-type {\n",
       "        vertical-align: middle;\n",
       "    }\n",
       "\n",
       "    .dataframe tbody tr th {\n",
       "        vertical-align: top;\n",
       "    }\n",
       "\n",
       "    .dataframe thead th {\n",
       "        text-align: right;\n",
       "    }\n",
       "</style>\n",
       "<table border=\"1\" class=\"dataframe\">\n",
       "  <thead>\n",
       "    <tr style=\"text-align: right;\">\n",
       "      <th></th>\n",
       "      <th>nombre</th>\n",
       "      <th>descripcion</th>\n",
       "      <th>precio</th>\n",
       "      <th>imagen</th>\n",
       "    </tr>\n",
       "  </thead>\n",
       "  <tbody>\n",
       "    <tr>\n",
       "      <th>0</th>\n",
       "      <td>aceite de oliva 0,4º hacendado</td>\n",
       "      <td>garrafa 5 l</td>\n",
       "      <td>15.50</td>\n",
       "      <td>https://prod-mercadona.imgix.net/images/af5f40...</td>\n",
       "    </tr>\n",
       "    <tr>\n",
       "      <th>1</th>\n",
       "      <td>aceite de oliva 0,4º hacendado</td>\n",
       "      <td>botella 1 l</td>\n",
       "      <td>3.20</td>\n",
       "      <td>https://prod-mercadona.imgix.net/images/2c743e...</td>\n",
       "    </tr>\n",
       "    <tr>\n",
       "      <th>2</th>\n",
       "      <td>aceite de oliva virgen extra hacendado</td>\n",
       "      <td>garrafa 3 l</td>\n",
       "      <td>11.00</td>\n",
       "      <td>https://prod-mercadona.imgix.net/images/84dff1...</td>\n",
       "    </tr>\n",
       "    <tr>\n",
       "      <th>3</th>\n",
       "      <td>aceite de oliva virgen extra hacendado</td>\n",
       "      <td>botella 1 l</td>\n",
       "      <td>3.95</td>\n",
       "      <td>https://prod-mercadona.imgix.net/images/95e2ef...</td>\n",
       "    </tr>\n",
       "    <tr>\n",
       "      <th>4</th>\n",
       "      <td>aceite de oliva virgen extra hacendado gran se...</td>\n",
       "      <td>botella 750 ml</td>\n",
       "      <td>4.10</td>\n",
       "      <td>https://prod-mercadona.imgix.net/images/c3e884...</td>\n",
       "    </tr>\n",
       "  </tbody>\n",
       "</table>\n",
       "</div>"
      ],
      "text/plain": [
       "                                              nombre     descripcion  precio  \\\n",
       "0                     aceite de oliva 0,4º hacendado     garrafa 5 l   15.50   \n",
       "1                     aceite de oliva 0,4º hacendado     botella 1 l    3.20   \n",
       "2             aceite de oliva virgen extra hacendado     garrafa 3 l   11.00   \n",
       "3             aceite de oliva virgen extra hacendado     botella 1 l    3.95   \n",
       "4  aceite de oliva virgen extra hacendado gran se...  botella 750 ml    4.10   \n",
       "\n",
       "                                              imagen  \n",
       "0  https://prod-mercadona.imgix.net/images/af5f40...  \n",
       "1  https://prod-mercadona.imgix.net/images/2c743e...  \n",
       "2  https://prod-mercadona.imgix.net/images/84dff1...  \n",
       "3  https://prod-mercadona.imgix.net/images/95e2ef...  \n",
       "4  https://prod-mercadona.imgix.net/images/c3e884...  "
      ]
     },
     "execution_count": 202,
     "metadata": {},
     "output_type": "execute_result"
    }
   ],
   "source": [
    "productos.head()"
   ]
  },
  {
   "cell_type": "code",
   "execution_count": 203,
   "id": "3a969971-5238-4ec7-8cc9-1b9b4a0c3b9b",
   "metadata": {},
   "outputs": [],
   "source": [
    "# Sacamos las subcategorías\n",
    "subcategorias = []\n",
    "\n",
    "for i in range(155):\n",
    "    subcategorias.append(html[i].find_all(class_='category-detail__title title1-b'))\n",
    "    \n",
    "# Desglosamos la lista en una sola\n",
    "subcategorias_list = []\n",
    "\n",
    "for item in subcategorias:\n",
    "    subcategorias_list += item\n",
    "    \n",
    "# Sacamos los nombres de lsa subcategorias en minúscula\n",
    "subcategorias = [subcategoria.text.lower() for subcategoria in subcategorias_list]"
   ]
  },
  {
   "cell_type": "code",
   "execution_count": 204,
   "id": "ab6e9a7b-cf2c-414b-a044-bd23dd1d2897",
   "metadata": {},
   "outputs": [
    {
     "data": {
      "text/plain": [
       "155"
      ]
     },
     "execution_count": 204,
     "metadata": {},
     "output_type": "execute_result"
    }
   ],
   "source": [
    "len(subcategorias)"
   ]
  },
  {
   "cell_type": "code",
   "execution_count": 205,
   "id": "14e6962c-9eab-4ecd-9316-c3c144a180a6",
   "metadata": {},
   "outputs": [],
   "source": [
    "# Vemos el número de productos por subcategoría\n",
    "numero_productos = []\n",
    "\n",
    "for i in range(155):\n",
    "    numero_productos.append(len(html[i].find_all(class_='product-cell')))"
   ]
  },
  {
   "cell_type": "code",
   "execution_count": 206,
   "id": "4ad92f2c-33f4-4566-973e-f84621214616",
   "metadata": {},
   "outputs": [],
   "source": [
    "'''Una vez tenemos el número de productos por subcategorías lo que hacemos es multiplicar el nombre de cada subcategoría \n",
    "por el número de productos que tiene cada subcategoría, sacamos la lista para implementar una nueva columna en nuestro\n",
    "DataFrame, lo hacemos con un bucle simultáneo donde i es el índice y j el valor de la variable (ambos iguales)'''\n",
    "numbers = list(range(155))\n",
    "subcategoria_columna = []\n",
    "\n",
    "for i, j in enumerate(numbers):\n",
    "    subcategoria_columna.append(numero_productos[i] * [subcategorias[j]])\n",
    "    \n",
    "# Desglosamos la lista en una sola\n",
    "subcategorias_columna_list = []\n",
    "\n",
    "for item in subcategoria_columna:\n",
    "    subcategorias_columna_list += item"
   ]
  },
  {
   "cell_type": "code",
   "execution_count": 207,
   "id": "057cfa41-4665-42d7-bfee-ff116205434a",
   "metadata": {},
   "outputs": [],
   "source": [
    "productos['subcategoria'] = subcategorias_columna_list"
   ]
  },
  {
   "cell_type": "code",
   "execution_count": 208,
   "id": "dc61993b-c9ac-412b-bc78-4ff0a4d43871",
   "metadata": {},
   "outputs": [
    {
     "data": {
      "text/html": [
       "<div>\n",
       "<style scoped>\n",
       "    .dataframe tbody tr th:only-of-type {\n",
       "        vertical-align: middle;\n",
       "    }\n",
       "\n",
       "    .dataframe tbody tr th {\n",
       "        vertical-align: top;\n",
       "    }\n",
       "\n",
       "    .dataframe thead th {\n",
       "        text-align: right;\n",
       "    }\n",
       "</style>\n",
       "<table border=\"1\" class=\"dataframe\">\n",
       "  <thead>\n",
       "    <tr style=\"text-align: right;\">\n",
       "      <th></th>\n",
       "      <th>nombre</th>\n",
       "      <th>descripcion</th>\n",
       "      <th>precio</th>\n",
       "      <th>imagen</th>\n",
       "      <th>subcategoria</th>\n",
       "    </tr>\n",
       "  </thead>\n",
       "  <tbody>\n",
       "    <tr>\n",
       "      <th>0</th>\n",
       "      <td>aceite de oliva 0,4º hacendado</td>\n",
       "      <td>garrafa 5 l</td>\n",
       "      <td>15.50</td>\n",
       "      <td>https://prod-mercadona.imgix.net/images/af5f40...</td>\n",
       "      <td>aceite, vinagre y sal</td>\n",
       "    </tr>\n",
       "    <tr>\n",
       "      <th>1</th>\n",
       "      <td>aceite de oliva 0,4º hacendado</td>\n",
       "      <td>botella 1 l</td>\n",
       "      <td>3.20</td>\n",
       "      <td>https://prod-mercadona.imgix.net/images/2c743e...</td>\n",
       "      <td>aceite, vinagre y sal</td>\n",
       "    </tr>\n",
       "    <tr>\n",
       "      <th>2</th>\n",
       "      <td>aceite de oliva virgen extra hacendado</td>\n",
       "      <td>garrafa 3 l</td>\n",
       "      <td>11.00</td>\n",
       "      <td>https://prod-mercadona.imgix.net/images/84dff1...</td>\n",
       "      <td>aceite, vinagre y sal</td>\n",
       "    </tr>\n",
       "    <tr>\n",
       "      <th>3</th>\n",
       "      <td>aceite de oliva virgen extra hacendado</td>\n",
       "      <td>botella 1 l</td>\n",
       "      <td>3.95</td>\n",
       "      <td>https://prod-mercadona.imgix.net/images/95e2ef...</td>\n",
       "      <td>aceite, vinagre y sal</td>\n",
       "    </tr>\n",
       "    <tr>\n",
       "      <th>4</th>\n",
       "      <td>aceite de oliva virgen extra hacendado gran se...</td>\n",
       "      <td>botella 750 ml</td>\n",
       "      <td>4.10</td>\n",
       "      <td>https://prod-mercadona.imgix.net/images/c3e884...</td>\n",
       "      <td>aceite, vinagre y sal</td>\n",
       "    </tr>\n",
       "  </tbody>\n",
       "</table>\n",
       "</div>"
      ],
      "text/plain": [
       "                                              nombre     descripcion  precio  \\\n",
       "0                     aceite de oliva 0,4º hacendado     garrafa 5 l   15.50   \n",
       "1                     aceite de oliva 0,4º hacendado     botella 1 l    3.20   \n",
       "2             aceite de oliva virgen extra hacendado     garrafa 3 l   11.00   \n",
       "3             aceite de oliva virgen extra hacendado     botella 1 l    3.95   \n",
       "4  aceite de oliva virgen extra hacendado gran se...  botella 750 ml    4.10   \n",
       "\n",
       "                                              imagen           subcategoria  \n",
       "0  https://prod-mercadona.imgix.net/images/af5f40...  aceite, vinagre y sal  \n",
       "1  https://prod-mercadona.imgix.net/images/2c743e...  aceite, vinagre y sal  \n",
       "2  https://prod-mercadona.imgix.net/images/84dff1...  aceite, vinagre y sal  \n",
       "3  https://prod-mercadona.imgix.net/images/95e2ef...  aceite, vinagre y sal  \n",
       "4  https://prod-mercadona.imgix.net/images/c3e884...  aceite, vinagre y sal  "
      ]
     },
     "execution_count": 208,
     "metadata": {},
     "output_type": "execute_result"
    }
   ],
   "source": [
    "productos.head()"
   ]
  },
  {
   "cell_type": "code",
   "execution_count": 209,
   "id": "67cf9c33-7c89-488a-85ef-a66d10250751",
   "metadata": {},
   "outputs": [],
   "source": [
    "productos.to_csv(r'C:\\Users\\HP\\Dropbox\\Mi PC (DESKTOP-KE4BQ28)\\Desktop\\Proyecto página web comparador de precios\\productos_mercadona.csv', index = False)\n",
    "productos.to_excel(r'C:\\Users\\HP\\Dropbox\\Mi PC (DESKTOP-KE4BQ28)\\Desktop\\Proyecto página web comparador de precios\\productos_mercadona.xlsx', index = False)"
   ]
  },
  {
   "cell_type": "code",
   "execution_count": null,
   "id": "5b39328e-c1d1-4e49-be7f-1b9a78499679",
   "metadata": {},
   "outputs": [],
   "source": []
  }
 ],
 "metadata": {
  "kernelspec": {
   "display_name": "Python 3 (ipykernel)",
   "language": "python",
   "name": "python3"
  },
  "language_info": {
   "codemirror_mode": {
    "name": "ipython",
    "version": 3
   },
   "file_extension": ".py",
   "mimetype": "text/x-python",
   "name": "python",
   "nbconvert_exporter": "python",
   "pygments_lexer": "ipython3",
   "version": "3.9.7"
  }
 },
 "nbformat": 4,
 "nbformat_minor": 5
}
